{
 "cells": [
  {
   "cell_type": "code",
   "execution_count": 16,
   "metadata": {},
   "outputs": [],
   "source": [
    "from bs4 import BeautifulSoup as bs\n",
    "from splinter import Browser\n",
    "from selenium import webdriver\n",
    "import time\n",
    "import pandas as pd\n",
    "import os\n",
    "import requests"
   ]
  },
  {
   "cell_type": "code",
   "execution_count": 2,
   "metadata": {},
   "outputs": [],
   "source": [
    "# Import splinter and set the cromedriver path\n",
    "executable_path = {'executable_path': 'chromedriver.exe'}\n",
    "browser = Browser('chrome', **executable_path, headless=False)"
   ]
  },
  {
   "cell_type": "code",
   "execution_count": 3,
   "metadata": {},
   "outputs": [],
   "source": [
    "# Set window size to ensure all of the elements needed are displayed\n",
    "# Width, Height\n",
    "browser.driver.set_window_size(640, 480)"
   ]
  },
  {
   "cell_type": "markdown",
   "metadata": {},
   "source": [
    "# Scrape Reddit for Subscribers Count - Conner"
   ]
  },
  {
   "cell_type": "code",
   "execution_count": null,
   "metadata": {},
   "outputs": [],
   "source": [
    "subreddits = [\"AZCardinals\", \"falcons\", \"ravens\", \"buffalobills\", \"panthers\",\"CHIBears\", \"bengals\", \"Browns\",\n",
    "              \"cowboys\", \"DenverBroncos\", \"detroitlions\", \"GreenBayPackers\", \"Texans\", \"Colts\", \"Jaguars\",\n",
    "              \"KansasCityChiefs\", \"miamidolphins\", \"minnesotavikings\", \"Patriots\", \"Saints\", \"NYGiants\", \"nyjets\",\n",
    "              \"oaklandraiders\", \"eagles\", \"steelers\", \"LosAngelesRams\", \"Chargers\", \"49ers\", \"Seahawks\", \n",
    "              \"buccaneers\", \"Tennesseetitans\", \"Redskins\"]\n",
    "\n",
    "subcounts = []"
   ]
  },
  {
   "cell_type": "code",
   "execution_count": null,
   "metadata": {},
   "outputs": [],
   "source": [
    "for sub in subreddits:\n",
    "    time.sleep(1)\n",
    "    url = f\"https://www.reddit.com/r/{sub}\"\n",
    "    browser.visit(url)\n",
    "    time.sleep(1)\n",
    "    html = browser.html\n",
    "    soup = bs(html, \"html.parser\")\n",
    "    subscribers = int(float(soup.find(\"p\", class_=\"s1bd5ppi-10\").text.split(\"k\")[0])*1000)\n",
    "    dictionary = {\"Subreddit URL (https://www.reddit.com/r/)\":sub, \"Subs\":subscribers}\n",
    "    subcounts.append(dictionary)"
   ]
  },
  {
   "cell_type": "code",
   "execution_count": null,
   "metadata": {},
   "outputs": [],
   "source": [
    "subcounts"
   ]
  },
  {
   "cell_type": "code",
   "execution_count": null,
   "metadata": {},
   "outputs": [],
   "source": [
    "df = pd.DataFrame(subcounts)\n",
    "teams = pd.read_csv(\"Teams.csv\")"
   ]
  },
  {
   "cell_type": "code",
   "execution_count": null,
   "metadata": {},
   "outputs": [],
   "source": [
    "combined = pd.merge(df, teams, on=\"Subreddit URL (https://www.reddit.com/r/)\")\n",
    "combined.head()"
   ]
  },
  {
   "cell_type": "code",
   "execution_count": null,
   "metadata": {},
   "outputs": [],
   "source": [
    "combined = combined.drop([\"Subreddit URL (https://www.reddit.com/r/)\"], axis=1)\n",
    "combined.head()"
   ]
  },
  {
   "cell_type": "code",
   "execution_count": null,
   "metadata": {},
   "outputs": [],
   "source": [
    "combined.to_csv(\"TeamsSubs.csv\", index=False, header=True)"
   ]
  },
  {
   "cell_type": "markdown",
   "metadata": {},
   "source": [
    "# Scrape Site for Valuation - Damita"
   ]
  },
  {
   "cell_type": "code",
   "execution_count": 22,
   "metadata": {},
   "outputs": [],
   "source": [
    "# Scarpe Forbes (F) Site for Team Valuations\n",
    "F_url = 'https://www.forbes.com/nfl-valuations/list/#tab:overall'\n",
    "F_response = requests.get(F_url)\n",
    "F_soup = bs(F_response.text, 'lxml')\n",
    "#print(F_soup.prettify())"
   ]
  },
  {
   "cell_type": "code",
   "execution_count": 32,
   "metadata": {},
   "outputs": [
    {
     "data": {
      "text/plain": [
       "[Empty DataFrame\n",
       " Columns: [Unnamed: 0, Rank, Team, Current ValueValue of team based on current stadium deal (unless new stadium is pending), without deduction for debt (other than stadium debt)., 1-Yr Value Change, Debt/ValueIncludes stadium debt, Revenue, Operating IncomeEarnings before interest, taxes, depreciation and amortization.]\n",
       " Index: []]"
      ]
     },
     "execution_count": 32,
     "metadata": {},
     "output_type": "execute_result"
    }
   ],
   "source": [
    "# OPtion 1:  Visit the Forbes webpage and use Pandas to scrape the table containing team data\n",
    "team_facts_url = 'https://www.forbes.com/nfl-valuations/list/#tab:overall'\n",
    "tables = pd.read_html(team_facts_url)\n",
    "tables"
   ]
  },
  {
   "cell_type": "code",
   "execution_count": 42,
   "metadata": {},
   "outputs": [
    {
     "ename": "AttributeError",
     "evalue": "'NoneType' object has no attribute 'find'",
     "output_type": "error",
     "traceback": [
      "\u001b[1;31m---------------------------------------------------------------------------\u001b[0m",
      "\u001b[1;31mAttributeError\u001b[0m                            Traceback (most recent call last)",
      "\u001b[1;32m<ipython-input-42-1cce04d658c8>\u001b[0m in \u001b[0;36m<module>\u001b[1;34m()\u001b[0m\n\u001b[0;32m      3\u001b[0m \u001b[1;31m#F_team_name = F_page_result.find('td', attrs={'class': 'name'})\u001b[0m\u001b[1;33m\u001b[0m\u001b[1;33m\u001b[0m\u001b[0m\n\u001b[0;32m      4\u001b[0m \u001b[1;31m#F_team_data = F_page_result.find('tr', class_='data')\u001b[0m\u001b[1;33m\u001b[0m\u001b[1;33m\u001b[0m\u001b[0m\n\u001b[1;32m----> 5\u001b[1;33m \u001b[0mF_team_name\u001b[0m \u001b[1;33m=\u001b[0m \u001b[0mF_page_result\u001b[0m\u001b[1;33m.\u001b[0m\u001b[0mfind\u001b[0m\u001b[1;33m(\u001b[0m\u001b[1;34m'td'\u001b[0m\u001b[1;33m,\u001b[0m \u001b[0mclass_\u001b[0m\u001b[1;33m=\u001b[0m\u001b[1;34m'name'\u001b[0m\u001b[1;33m)\u001b[0m\u001b[1;33m.\u001b[0m\u001b[0mfind\u001b[0m\u001b[1;33m(\u001b[0m\u001b[1;34m'a'\u001b[0m\u001b[1;33m)\u001b[0m\u001b[1;33m.\u001b[0m\u001b[0mtext\u001b[0m\u001b[1;33m\u001b[0m\u001b[0m\n\u001b[0m\u001b[0;32m      6\u001b[0m \u001b[1;31m#F_team_name = F_page_result.find('td', attrs={'class': 'name'})\u001b[0m\u001b[1;33m\u001b[0m\u001b[1;33m\u001b[0m\u001b[0m\n\u001b[0;32m      7\u001b[0m \u001b[0mF_team_name\u001b[0m\u001b[1;33m\u001b[0m\u001b[0m\n",
      "\u001b[1;31mAttributeError\u001b[0m: 'NoneType' object has no attribute 'find'"
     ]
    }
   ],
   "source": [
    "#OPTION 2: Parse through table for team name and value\n",
    "F_page_result = F_soup.find('tbody', id_='list_table_body')\n",
    "#F_team_name = F_page_result.find('td', attrs={'class': 'name'})\n",
    "#F_team_data = F_page_result.find('tr', class_='data')\n",
    "F_team_name = F_page_result.find('td', class_='name').find('a').text\n",
    "#F_team_name = F_page_result.find('td', attrs={'class': 'name'})\n",
    "F_team_name"
   ]
  },
  {
   "cell_type": "code",
   "execution_count": null,
   "metadata": {},
   "outputs": [],
   "source": [
    "# Create a dictionary to hold valuations\n",
    "value = {}\n",
    "value[team_name]\n",
    "value[team_value]"
   ]
  }
 ],
 "metadata": {
  "kernelspec": {
   "display_name": "Python 3",
   "language": "python",
   "name": "python3"
  },
  "language_info": {
   "codemirror_mode": {
    "name": "ipython",
    "version": 3
   },
   "file_extension": ".py",
   "mimetype": "text/x-python",
   "name": "python",
   "nbconvert_exporter": "python",
   "pygments_lexer": "ipython3",
   "version": "3.7.0"
  }
 },
 "nbformat": 4,
 "nbformat_minor": 2
}
