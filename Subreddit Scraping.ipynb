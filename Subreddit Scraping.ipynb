{
 "cells": [
  {
   "cell_type": "code",
   "execution_count": 7,
   "metadata": {},
   "outputs": [],
   "source": [
    "from bs4 import BeautifulSoup\n",
    "from splinter import Browser\n",
    "import time"
   ]
  },
  {
   "cell_type": "code",
   "execution_count": 8,
   "metadata": {},
   "outputs": [],
   "source": [
    "executable_path = {'executable_path': '/usr/local/bin/chromedriver'}\n",
    "browser = Browser('chrome', **executable_path, headless=False)"
   ]
  },
  {
   "cell_type": "code",
   "execution_count": 9,
   "metadata": {},
   "outputs": [],
   "source": [
    "subreddits = [\"AZCardinals\", \"falcons\", \"ravens\", \"buffalobills\", \"panthers\",\"CHIBears\", \"bengals\", \"Browns\",\n",
    "              \"cowboys\", \"DenverBroncos\", \"detroitlions\", \"GreenBayPackers\", \"Texans\", \"Colts\", \"Jaguars\",\n",
    "              \"KansasCityChiefs\", \"miamidolphins\", \"minnesotavikings\", \"Patriots\", \"Saints\", \"NYGiants\", \"nyjets\",\n",
    "              \"oaklandraiders\", \"eagles\", \"steelers\", \"LosAngelesRams\", \"Chargers\", \"49ers\", \"Seahawks\", \n",
    "              \"buccaneers\", \"Tennesseetitans\", \"Redskins\"]\n",
    "\n",
    "subcounts = []"
   ]
  },
  {
   "cell_type": "code",
   "execution_count": 10,
   "metadata": {},
   "outputs": [],
   "source": [
    "for sub in subreddits:\n",
    "    time.sleep(1)\n",
    "    url = f\"https://www.reddit.com/r/{sub}\"\n",
    "    browser.visit(url)\n",
    "    time.sleep(1)\n",
    "    html = browser.html\n",
    "    soup = BeautifulSoup(html, \"html.parser\")\n",
    "    subscribers = soup.find(\"p\", class_=\"s1bd5ppi-10\").text\n",
    "    dictionary = {\"Team\":sub, \"Subs\":subscribers}\n",
    "    subcounts.append(dictionary)"
   ]
  },
  {
   "cell_type": "code",
   "execution_count": 11,
   "metadata": {},
   "outputs": [
    {
     "data": {
      "text/plain": [
       "[{'Team': 'AZCardinals', 'Subs': '31.6k'},\n",
       " {'Team': 'falcons', 'Subs': '47.3k'},\n",
       " {'Team': 'ravens', 'Subs': '35.9k'},\n",
       " {'Team': 'buffalobills', 'Subs': '36.6k'},\n",
       " {'Team': 'panthers', 'Subs': '36.8k'},\n",
       " {'Team': 'CHIBears', 'Subs': '62.4k'},\n",
       " {'Team': 'bengals', 'Subs': '37.7k'},\n",
       " {'Team': 'Browns', 'Subs': '53.2k'},\n",
       " {'Team': 'cowboys', 'Subs': '63.4k'},\n",
       " {'Team': 'DenverBroncos', 'Subs': '51.5k'},\n",
       " {'Team': 'detroitlions', 'Subs': '50.8k'},\n",
       " {'Team': 'GreenBayPackers', 'Subs': '98.9k'},\n",
       " {'Team': 'Texans', 'Subs': '36.2k'},\n",
       " {'Team': 'Colts', 'Subs': '32.5k'},\n",
       " {'Team': 'Jaguars', 'Subs': '31.0k'},\n",
       " {'Team': 'KansasCityChiefs', 'Subs': '47.5k'},\n",
       " {'Team': 'miamidolphins', 'Subs': '33.2k'},\n",
       " {'Team': 'minnesotavikings', 'Subs': '73.4k'},\n",
       " {'Team': 'Patriots', 'Subs': '170k'},\n",
       " {'Team': 'Saints', 'Subs': '39.2k'},\n",
       " {'Team': 'NYGiants', 'Subs': '50.1k'},\n",
       " {'Team': 'nyjets', 'Subs': '33.5k'},\n",
       " {'Team': 'oaklandraiders', 'Subs': '34.4k'},\n",
       " {'Team': 'eagles', 'Subs': '150k'},\n",
       " {'Team': 'steelers', 'Subs': '59.9k'},\n",
       " {'Team': 'LosAngelesRams', 'Subs': '71.0k'},\n",
       " {'Team': 'Chargers', 'Subs': '30.0k'},\n",
       " {'Team': '49ers', 'Subs': '63.2k'},\n",
       " {'Team': 'Seahawks', 'Subs': '72.1k'},\n",
       " {'Team': 'buccaneers', 'Subs': '24.7k'},\n",
       " {'Team': 'Tennesseetitans', 'Subs': '26.9k'},\n",
       " {'Team': 'Redskins', 'Subs': '35.7k'}]"
      ]
     },
     "execution_count": 11,
     "metadata": {},
     "output_type": "execute_result"
    }
   ],
   "source": [
    "subcounts"
   ]
  },
  {
   "cell_type": "code",
   "execution_count": null,
   "metadata": {},
   "outputs": [],
   "source": []
  }
 ],
 "metadata": {
  "kernelspec": {
   "display_name": "Python 3",
   "language": "python",
   "name": "python3"
  },
  "language_info": {
   "codemirror_mode": {
    "name": "ipython",
    "version": 3
   },
   "file_extension": ".py",
   "mimetype": "text/x-python",
   "name": "python",
   "nbconvert_exporter": "python",
   "pygments_lexer": "ipython3",
   "version": "3.6.8"
  }
 },
 "nbformat": 4,
 "nbformat_minor": 2
}
