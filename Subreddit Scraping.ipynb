{
 "cells": [
  {
   "cell_type": "code",
   "execution_count": 1,
   "metadata": {},
   "outputs": [],
   "source": [
    "from bs4 import BeautifulSoup\n",
    "from splinter import Browser\n",
    "import time\n",
    "import pandas as pd"
   ]
  },
  {
   "cell_type": "code",
   "execution_count": 2,
   "metadata": {},
   "outputs": [],
   "source": [
    "executable_path = {'executable_path': '/usr/local/bin/chromedriver'}\n",
    "browser = Browser('chrome', **executable_path, headless=False)"
   ]
  },
  {
   "cell_type": "code",
   "execution_count": 3,
   "metadata": {},
   "outputs": [],
   "source": [
    "subreddits = [\"AZCardinals\", \"falcons\", \"ravens\", \"buffalobills\", \"panthers\",\"CHIBears\", \"bengals\", \"Browns\",\n",
    "              \"cowboys\", \"DenverBroncos\", \"detroitlions\", \"GreenBayPackers\", \"Texans\", \"Colts\", \"Jaguars\",\n",
    "              \"KansasCityChiefs\", \"miamidolphins\", \"minnesotavikings\", \"Patriots\", \"Saints\", \"NYGiants\", \"nyjets\",\n",
    "              \"oaklandraiders\", \"eagles\", \"steelers\", \"LosAngelesRams\", \"Chargers\", \"49ers\", \"Seahawks\", \n",
    "              \"buccaneers\", \"Tennesseetitans\", \"Redskins\"]\n",
    "\n",
    "subcounts = []"
   ]
  },
  {
   "cell_type": "code",
   "execution_count": 4,
   "metadata": {},
   "outputs": [],
   "source": [
    "for sub in subreddits:\n",
    "    time.sleep(1)\n",
    "    url = f\"https://www.reddit.com/r/{sub}\"\n",
    "    browser.visit(url)\n",
    "    time.sleep(1)\n",
    "    html = browser.html\n",
    "    soup = BeautifulSoup(html, \"html.parser\")\n",
    "    subscribers = int(float(soup.find(\"p\", class_=\"s1bd5ppi-10\").text.split(\"k\")[0])*1000)\n",
    "    dictionary = {\"Subreddit URL (https://www.reddit.com/r/)\":sub, \"Subs\":subscribers}\n",
    "    subcounts.append(dictionary)"
   ]
  },
  {
   "cell_type": "code",
   "execution_count": 5,
   "metadata": {},
   "outputs": [
    {
     "data": {
      "text/plain": [
       "[{'Subreddit URL (https://www.reddit.com/r/)': 'AZCardinals', 'Subs': 31600},\n",
       " {'Subreddit URL (https://www.reddit.com/r/)': 'falcons', 'Subs': 47300},\n",
       " {'Subreddit URL (https://www.reddit.com/r/)': 'ravens', 'Subs': 36000},\n",
       " {'Subreddit URL (https://www.reddit.com/r/)': 'buffalobills', 'Subs': 36600},\n",
       " {'Subreddit URL (https://www.reddit.com/r/)': 'panthers', 'Subs': 36800},\n",
       " {'Subreddit URL (https://www.reddit.com/r/)': 'CHIBears', 'Subs': 62400},\n",
       " {'Subreddit URL (https://www.reddit.com/r/)': 'bengals', 'Subs': 37800},\n",
       " {'Subreddit URL (https://www.reddit.com/r/)': 'Browns', 'Subs': 53200},\n",
       " {'Subreddit URL (https://www.reddit.com/r/)': 'cowboys', 'Subs': 63400},\n",
       " {'Subreddit URL (https://www.reddit.com/r/)': 'DenverBroncos', 'Subs': 51500},\n",
       " {'Subreddit URL (https://www.reddit.com/r/)': 'detroitlions', 'Subs': 50800},\n",
       " {'Subreddit URL (https://www.reddit.com/r/)': 'GreenBayPackers',\n",
       "  'Subs': 98900},\n",
       " {'Subreddit URL (https://www.reddit.com/r/)': 'Texans', 'Subs': 36200},\n",
       " {'Subreddit URL (https://www.reddit.com/r/)': 'Colts', 'Subs': 32500},\n",
       " {'Subreddit URL (https://www.reddit.com/r/)': 'Jaguars', 'Subs': 31100},\n",
       " {'Subreddit URL (https://www.reddit.com/r/)': 'KansasCityChiefs',\n",
       "  'Subs': 47600},\n",
       " {'Subreddit URL (https://www.reddit.com/r/)': 'miamidolphins', 'Subs': 33200},\n",
       " {'Subreddit URL (https://www.reddit.com/r/)': 'minnesotavikings',\n",
       "  'Subs': 73400},\n",
       " {'Subreddit URL (https://www.reddit.com/r/)': 'Patriots', 'Subs': 170000},\n",
       " {'Subreddit URL (https://www.reddit.com/r/)': 'Saints', 'Subs': 39300},\n",
       " {'Subreddit URL (https://www.reddit.com/r/)': 'NYGiants', 'Subs': 50100},\n",
       " {'Subreddit URL (https://www.reddit.com/r/)': 'nyjets', 'Subs': 33500},\n",
       " {'Subreddit URL (https://www.reddit.com/r/)': 'oaklandraiders',\n",
       "  'Subs': 34400},\n",
       " {'Subreddit URL (https://www.reddit.com/r/)': 'eagles', 'Subs': 150000},\n",
       " {'Subreddit URL (https://www.reddit.com/r/)': 'steelers', 'Subs': 60000},\n",
       " {'Subreddit URL (https://www.reddit.com/r/)': 'LosAngelesRams',\n",
       "  'Subs': 71200},\n",
       " {'Subreddit URL (https://www.reddit.com/r/)': 'Chargers', 'Subs': 30000},\n",
       " {'Subreddit URL (https://www.reddit.com/r/)': '49ers', 'Subs': 63200},\n",
       " {'Subreddit URL (https://www.reddit.com/r/)': 'Seahawks', 'Subs': 72100},\n",
       " {'Subreddit URL (https://www.reddit.com/r/)': 'buccaneers', 'Subs': 24700},\n",
       " {'Subreddit URL (https://www.reddit.com/r/)': 'Tennesseetitans',\n",
       "  'Subs': 27000},\n",
       " {'Subreddit URL (https://www.reddit.com/r/)': 'Redskins', 'Subs': 35700}]"
      ]
     },
     "execution_count": 5,
     "metadata": {},
     "output_type": "execute_result"
    }
   ],
   "source": [
    "subcounts"
   ]
  },
  {
   "cell_type": "code",
   "execution_count": 6,
   "metadata": {},
   "outputs": [],
   "source": [
    "df = pd.DataFrame(subcounts)\n",
    "teams = pd.read_csv(\"Teams.csv\")"
   ]
  },
  {
   "cell_type": "code",
   "execution_count": 7,
   "metadata": {},
   "outputs": [
    {
     "data": {
      "text/html": [
       "<div>\n",
       "<style scoped>\n",
       "    .dataframe tbody tr th:only-of-type {\n",
       "        vertical-align: middle;\n",
       "    }\n",
       "\n",
       "    .dataframe tbody tr th {\n",
       "        vertical-align: top;\n",
       "    }\n",
       "\n",
       "    .dataframe thead th {\n",
       "        text-align: right;\n",
       "    }\n",
       "</style>\n",
       "<table border=\"1\" class=\"dataframe\">\n",
       "  <thead>\n",
       "    <tr style=\"text-align: right;\">\n",
       "      <th></th>\n",
       "      <th>Subreddit URL (https://www.reddit.com/r/)</th>\n",
       "      <th>Subs</th>\n",
       "      <th>Team</th>\n",
       "      <th>Stadium City</th>\n",
       "      <th>Real City</th>\n",
       "    </tr>\n",
       "  </thead>\n",
       "  <tbody>\n",
       "    <tr>\n",
       "      <th>0</th>\n",
       "      <td>AZCardinals</td>\n",
       "      <td>31600</td>\n",
       "      <td>Arizona Cardinals</td>\n",
       "      <td>Glendale, Arizona</td>\n",
       "      <td>Phoenix, Arizona</td>\n",
       "    </tr>\n",
       "    <tr>\n",
       "      <th>1</th>\n",
       "      <td>falcons</td>\n",
       "      <td>47300</td>\n",
       "      <td>Atlanta Falcons</td>\n",
       "      <td>Atlanta, Georgia</td>\n",
       "      <td>Atlanta, Georgia</td>\n",
       "    </tr>\n",
       "    <tr>\n",
       "      <th>2</th>\n",
       "      <td>ravens</td>\n",
       "      <td>36000</td>\n",
       "      <td>Baltimore Ravens</td>\n",
       "      <td>Baltimore, Maryland</td>\n",
       "      <td>Baltimore, Maryland</td>\n",
       "    </tr>\n",
       "    <tr>\n",
       "      <th>3</th>\n",
       "      <td>buffalobills</td>\n",
       "      <td>36600</td>\n",
       "      <td>Buffalo Bills</td>\n",
       "      <td>Orchard Park, New York</td>\n",
       "      <td>Buffalo, New York</td>\n",
       "    </tr>\n",
       "    <tr>\n",
       "      <th>4</th>\n",
       "      <td>panthers</td>\n",
       "      <td>36800</td>\n",
       "      <td>Carolina Panthers</td>\n",
       "      <td>Charlotte, North Carolina</td>\n",
       "      <td>Charlotte, North Carolina</td>\n",
       "    </tr>\n",
       "  </tbody>\n",
       "</table>\n",
       "</div>"
      ],
      "text/plain": [
       "  Subreddit URL (https://www.reddit.com/r/)   Subs               Team  \\\n",
       "0                               AZCardinals  31600  Arizona Cardinals   \n",
       "1                                   falcons  47300    Atlanta Falcons   \n",
       "2                                    ravens  36000   Baltimore Ravens   \n",
       "3                              buffalobills  36600      Buffalo Bills   \n",
       "4                                  panthers  36800  Carolina Panthers   \n",
       "\n",
       "                Stadium City                  Real City  \n",
       "0          Glendale, Arizona           Phoenix, Arizona  \n",
       "1           Atlanta, Georgia           Atlanta, Georgia  \n",
       "2        Baltimore, Maryland        Baltimore, Maryland  \n",
       "3     Orchard Park, New York          Buffalo, New York  \n",
       "4  Charlotte, North Carolina  Charlotte, North Carolina  "
      ]
     },
     "execution_count": 7,
     "metadata": {},
     "output_type": "execute_result"
    }
   ],
   "source": [
    "combined = pd.merge(df, teams, on=\"Subreddit URL (https://www.reddit.com/r/)\")\n",
    "combined.head()"
   ]
  },
  {
   "cell_type": "code",
   "execution_count": 8,
   "metadata": {},
   "outputs": [
    {
     "data": {
      "text/html": [
       "<div>\n",
       "<style scoped>\n",
       "    .dataframe tbody tr th:only-of-type {\n",
       "        vertical-align: middle;\n",
       "    }\n",
       "\n",
       "    .dataframe tbody tr th {\n",
       "        vertical-align: top;\n",
       "    }\n",
       "\n",
       "    .dataframe thead th {\n",
       "        text-align: right;\n",
       "    }\n",
       "</style>\n",
       "<table border=\"1\" class=\"dataframe\">\n",
       "  <thead>\n",
       "    <tr style=\"text-align: right;\">\n",
       "      <th></th>\n",
       "      <th>Subs</th>\n",
       "      <th>Team</th>\n",
       "      <th>Stadium City</th>\n",
       "      <th>Real City</th>\n",
       "    </tr>\n",
       "  </thead>\n",
       "  <tbody>\n",
       "    <tr>\n",
       "      <th>0</th>\n",
       "      <td>31600</td>\n",
       "      <td>Arizona Cardinals</td>\n",
       "      <td>Glendale, Arizona</td>\n",
       "      <td>Phoenix, Arizona</td>\n",
       "    </tr>\n",
       "    <tr>\n",
       "      <th>1</th>\n",
       "      <td>47300</td>\n",
       "      <td>Atlanta Falcons</td>\n",
       "      <td>Atlanta, Georgia</td>\n",
       "      <td>Atlanta, Georgia</td>\n",
       "    </tr>\n",
       "    <tr>\n",
       "      <th>2</th>\n",
       "      <td>36000</td>\n",
       "      <td>Baltimore Ravens</td>\n",
       "      <td>Baltimore, Maryland</td>\n",
       "      <td>Baltimore, Maryland</td>\n",
       "    </tr>\n",
       "    <tr>\n",
       "      <th>3</th>\n",
       "      <td>36600</td>\n",
       "      <td>Buffalo Bills</td>\n",
       "      <td>Orchard Park, New York</td>\n",
       "      <td>Buffalo, New York</td>\n",
       "    </tr>\n",
       "    <tr>\n",
       "      <th>4</th>\n",
       "      <td>36800</td>\n",
       "      <td>Carolina Panthers</td>\n",
       "      <td>Charlotte, North Carolina</td>\n",
       "      <td>Charlotte, North Carolina</td>\n",
       "    </tr>\n",
       "  </tbody>\n",
       "</table>\n",
       "</div>"
      ],
      "text/plain": [
       "    Subs               Team               Stadium City  \\\n",
       "0  31600  Arizona Cardinals          Glendale, Arizona   \n",
       "1  47300    Atlanta Falcons           Atlanta, Georgia   \n",
       "2  36000   Baltimore Ravens        Baltimore, Maryland   \n",
       "3  36600      Buffalo Bills     Orchard Park, New York   \n",
       "4  36800  Carolina Panthers  Charlotte, North Carolina   \n",
       "\n",
       "                   Real City  \n",
       "0           Phoenix, Arizona  \n",
       "1           Atlanta, Georgia  \n",
       "2        Baltimore, Maryland  \n",
       "3          Buffalo, New York  \n",
       "4  Charlotte, North Carolina  "
      ]
     },
     "execution_count": 8,
     "metadata": {},
     "output_type": "execute_result"
    }
   ],
   "source": [
    "combined = combined.drop([\"Subreddit URL (https://www.reddit.com/r/)\"], axis=1)\n",
    "combined.head()"
   ]
  },
  {
   "cell_type": "code",
   "execution_count": 9,
   "metadata": {},
   "outputs": [],
   "source": [
    "combined.to_csv(\"TeamsSubs.csv\", index=False, header=True)"
   ]
  }
 ],
 "metadata": {
  "kernelspec": {
   "display_name": "Python 3",
   "language": "python",
   "name": "python3"
  },
  "language_info": {
   "codemirror_mode": {
    "name": "ipython",
    "version": 3
   },
   "file_extension": ".py",
   "mimetype": "text/x-python",
   "name": "python",
   "nbconvert_exporter": "python",
   "pygments_lexer": "ipython3",
   "version": "3.6.8"
  }
 },
 "nbformat": 4,
 "nbformat_minor": 2
}
